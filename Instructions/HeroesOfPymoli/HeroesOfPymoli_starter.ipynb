{
 "cells": [
  {
   "cell_type": "markdown",
   "metadata": {},
   "source": [
    "### Heroes Of Pymoli Data Analysis\n",
    "* Of the 1163 active players, the vast majority are male (84%). There also exists, a smaller, but notable proportion of female players (14%).\n",
    "\n",
    "* Our peak age demographic falls between 20-24 (44.8%) with secondary groups falling between 15-19 (18.60%) and 25-29 (13.4%).  \n",
    "-----"
   ]
  },
  {
   "cell_type": "markdown",
   "metadata": {},
   "source": [
    "### Note\n",
    "* Instructions have been included for each segment. You do not have to follow them exactly, but they are included to help you think through the steps."
   ]
  },
  {
   "cell_type": "code",
   "execution_count": 1,
   "metadata": {},
   "outputs": [
    {
     "data": {
      "text/html": [
       "<div>\n",
       "<style scoped>\n",
       "    .dataframe tbody tr th:only-of-type {\n",
       "        vertical-align: middle;\n",
       "    }\n",
       "\n",
       "    .dataframe tbody tr th {\n",
       "        vertical-align: top;\n",
       "    }\n",
       "\n",
       "    .dataframe thead th {\n",
       "        text-align: right;\n",
       "    }\n",
       "</style>\n",
       "<table border=\"1\" class=\"dataframe\">\n",
       "  <thead>\n",
       "    <tr style=\"text-align: right;\">\n",
       "      <th></th>\n",
       "      <th>Purchase ID</th>\n",
       "      <th>SN</th>\n",
       "      <th>Age</th>\n",
       "      <th>Gender</th>\n",
       "      <th>Item ID</th>\n",
       "      <th>Item Name</th>\n",
       "      <th>Price</th>\n",
       "    </tr>\n",
       "  </thead>\n",
       "  <tbody>\n",
       "    <tr>\n",
       "      <th>0</th>\n",
       "      <td>0</td>\n",
       "      <td>Lisim78</td>\n",
       "      <td>20</td>\n",
       "      <td>Male</td>\n",
       "      <td>108</td>\n",
       "      <td>Extraction, Quickblade Of Trembling Hands</td>\n",
       "      <td>3.53</td>\n",
       "    </tr>\n",
       "    <tr>\n",
       "      <th>1</th>\n",
       "      <td>1</td>\n",
       "      <td>Lisovynya38</td>\n",
       "      <td>40</td>\n",
       "      <td>Male</td>\n",
       "      <td>143</td>\n",
       "      <td>Frenzied Scimitar</td>\n",
       "      <td>1.56</td>\n",
       "    </tr>\n",
       "    <tr>\n",
       "      <th>2</th>\n",
       "      <td>2</td>\n",
       "      <td>Ithergue48</td>\n",
       "      <td>24</td>\n",
       "      <td>Male</td>\n",
       "      <td>92</td>\n",
       "      <td>Final Critic</td>\n",
       "      <td>4.88</td>\n",
       "    </tr>\n",
       "    <tr>\n",
       "      <th>3</th>\n",
       "      <td>3</td>\n",
       "      <td>Chamassasya86</td>\n",
       "      <td>24</td>\n",
       "      <td>Male</td>\n",
       "      <td>100</td>\n",
       "      <td>Blindscythe</td>\n",
       "      <td>3.27</td>\n",
       "    </tr>\n",
       "    <tr>\n",
       "      <th>4</th>\n",
       "      <td>4</td>\n",
       "      <td>Iskosia90</td>\n",
       "      <td>23</td>\n",
       "      <td>Male</td>\n",
       "      <td>131</td>\n",
       "      <td>Fury</td>\n",
       "      <td>1.44</td>\n",
       "    </tr>\n",
       "  </tbody>\n",
       "</table>\n",
       "</div>"
      ],
      "text/plain": [
       "   Purchase ID             SN  Age Gender  Item ID  \\\n",
       "0            0        Lisim78   20   Male      108   \n",
       "1            1    Lisovynya38   40   Male      143   \n",
       "2            2     Ithergue48   24   Male       92   \n",
       "3            3  Chamassasya86   24   Male      100   \n",
       "4            4      Iskosia90   23   Male      131   \n",
       "\n",
       "                                   Item Name  Price  \n",
       "0  Extraction, Quickblade Of Trembling Hands   3.53  \n",
       "1                          Frenzied Scimitar   1.56  \n",
       "2                               Final Critic   4.88  \n",
       "3                                Blindscythe   3.27  \n",
       "4                                       Fury   1.44  "
      ]
     },
     "execution_count": 1,
     "metadata": {},
     "output_type": "execute_result"
    }
   ],
   "source": [
    "# Dependencies and Setup\n",
    "import pandas as pd\n",
    "import numpy as np\n",
    "\n",
    "# File to Load (Remember to Change These)\n",
    "file_to_load = \"Resources/purchase_data.csv\"\n",
    "\n",
    "# Read Purchasing File and store into Pandas data frame\n",
    "purchase_data = pd.read_csv(file_to_load)\n",
    "purchase_data.head()"
   ]
  },
  {
   "cell_type": "markdown",
   "metadata": {},
   "source": [
    "## Player Count"
   ]
  },
  {
   "cell_type": "markdown",
   "metadata": {},
   "source": [
    "* Display the total number of players\n"
   ]
  },
  {
   "cell_type": "code",
   "execution_count": 2,
   "metadata": {},
   "outputs": [
    {
     "data": {
      "text/plain": [
       "576"
      ]
     },
     "execution_count": 2,
     "metadata": {},
     "output_type": "execute_result"
    }
   ],
   "source": [
    "total_players = purchase_data['SN'].nunique()\n",
    "total_players"
   ]
  },
  {
   "cell_type": "markdown",
   "metadata": {},
   "source": [
    "## Purchasing Analysis (Total)"
   ]
  },
  {
   "cell_type": "markdown",
   "metadata": {},
   "source": [
    "* Run basic calculations to obtain number of unique items, average price, etc.\n",
    "\n",
    "\n",
    "* Create a summary data frame to hold the results\n",
    "\n",
    "\n",
    "* Optional: give the displayed data cleaner formatting\n",
    "\n",
    "\n",
    "* Display the summary data frame\n"
   ]
  },
  {
   "cell_type": "code",
   "execution_count": 3,
   "metadata": {
    "scrolled": true
   },
   "outputs": [
    {
     "data": {
      "text/html": [
       "<style  type=\"text/css\" >\n",
       "</style><table id=\"T_fcbeefd4_87aa_11e9_b8ae_181dea712a59\" ><thead>    <tr>        <th class=\"blank level0\" ></th>        <th class=\"col_heading level0 col0\" >number of unique items</th>        <th class=\"col_heading level0 col1\" >average price</th>        <th class=\"col_heading level0 col2\" >player count</th>    </tr></thead><tbody>\n",
       "                <tr>\n",
       "                        <th id=\"T_fcbeefd4_87aa_11e9_b8ae_181dea712a59level0_row0\" class=\"row_heading level0 row0\" >0</th>\n",
       "                        <td id=\"T_fcbeefd4_87aa_11e9_b8ae_181dea712a59row0_col0\" class=\"data row0 col0\" >179</td>\n",
       "                        <td id=\"T_fcbeefd4_87aa_11e9_b8ae_181dea712a59row0_col1\" class=\"data row0 col1\" >$3.05</td>\n",
       "                        <td id=\"T_fcbeefd4_87aa_11e9_b8ae_181dea712a59row0_col2\" class=\"data row0 col2\" >576</td>\n",
       "            </tr>\n",
       "    </tbody></table>"
      ],
      "text/plain": [
       "<pandas.io.formats.style.Styler at 0x1cff8045b38>"
      ]
     },
     "execution_count": 3,
     "metadata": {},
     "output_type": "execute_result"
    }
   ],
   "source": [
    "#variable for unique items\n",
    "unique_items = purchase_data[\"Item Name\"].nunique()\n",
    "unique_items\n",
    "\n",
    "#variable for average price\n",
    "avg_price = purchase_data[\"Price\"].mean()\n",
    "avg_price\n",
    "\n",
    "#print a summary of the variables found above\n",
    "summary_df = pd.DataFrame({\"number of unique items\":[unique_items], \"average price\":[avg_price], \"player count\": [total_players]})\n",
    "\n",
    "summary_df.style.format({'average price':\"${:,.2f}\"})\n"
   ]
  },
  {
   "cell_type": "markdown",
   "metadata": {},
   "source": [
    "## Gender Demographics"
   ]
  },
  {
   "cell_type": "markdown",
   "metadata": {},
   "source": [
    "* Percentage and Count of Male Players\n",
    "\n",
    "\n",
    "* Percentage and Count of Female Players\n",
    "\n",
    "\n",
    "* Percentage and Count of Other / Non-Disclosed\n",
    "\n",
    "\n"
   ]
  },
  {
   "cell_type": "code",
   "execution_count": 4,
   "metadata": {},
   "outputs": [
    {
     "data": {
      "text/html": [
       "<style  type=\"text/css\" >\n",
       "</style><table id=\"T_fcc198c0_87aa_11e9_9835_181dea712a59\" ><thead>    <tr>        <th class=\"blank level0\" ></th>        <th class=\"col_heading level0 col0\" >Player %</th>        <th class=\"col_heading level0 col1\" >Total Count</th>    </tr>    <tr>        <th class=\"index_name level0\" >Gender</th>        <th class=\"blank\" ></th>        <th class=\"blank\" ></th>    </tr></thead><tbody>\n",
       "                <tr>\n",
       "                        <th id=\"T_fcc198c0_87aa_11e9_9835_181dea712a59level0_row0\" class=\"row_heading level0 row0\" >Female</th>\n",
       "                        <td id=\"T_fcc198c0_87aa_11e9_9835_181dea712a59row0_col0\" class=\"data row0 col0\" >14.06%</td>\n",
       "                        <td id=\"T_fcc198c0_87aa_11e9_9835_181dea712a59row0_col1\" class=\"data row0 col1\" >81</td>\n",
       "            </tr>\n",
       "            <tr>\n",
       "                        <th id=\"T_fcc198c0_87aa_11e9_9835_181dea712a59level0_row1\" class=\"row_heading level0 row1\" >Male</th>\n",
       "                        <td id=\"T_fcc198c0_87aa_11e9_9835_181dea712a59row1_col0\" class=\"data row1 col0\" >84.03%</td>\n",
       "                        <td id=\"T_fcc198c0_87aa_11e9_9835_181dea712a59row1_col1\" class=\"data row1 col1\" >484</td>\n",
       "            </tr>\n",
       "            <tr>\n",
       "                        <th id=\"T_fcc198c0_87aa_11e9_9835_181dea712a59level0_row2\" class=\"row_heading level0 row2\" >Other / Non-Disclosed</th>\n",
       "                        <td id=\"T_fcc198c0_87aa_11e9_9835_181dea712a59row2_col0\" class=\"data row2 col0\" >1.91%</td>\n",
       "                        <td id=\"T_fcc198c0_87aa_11e9_9835_181dea712a59row2_col1\" class=\"data row2 col1\" >11</td>\n",
       "            </tr>\n",
       "    </tbody></table>"
      ],
      "text/plain": [
       "<pandas.io.formats.style.Styler at 0x1cff8c81748>"
      ]
     },
     "execution_count": 4,
     "metadata": {},
     "output_type": "execute_result"
    }
   ],
   "source": [
    "# Group by gender\n",
    "gender_demo = purchase_data.groupby(\"Gender\")\n",
    "\n",
    "# get a total of gender from the SN column\n",
    "gender_count = gender_demo.nunique()[\"SN\"]\n",
    "gender_count\n",
    "\n",
    "# get the % of gender from gender variables divded by total players\n",
    "percent_players = gender_count / total_players\n",
    "percent_players\n",
    "\n",
    "# put the variables into a data frame\n",
    "gender_df = pd.DataFrame({\"Player %\": percent_players, \n",
    "                          \"Total Count\": gender_count})\n",
    "\n",
    "# format the output variables and print it using \"{:.2%}\"\n",
    "gender_df.style.format({\"Player %\": \"{:.2%}\"})\n"
   ]
  },
  {
   "cell_type": "markdown",
   "metadata": {},
   "source": [
    "\n",
    "## Purchasing Analysis (Gender)"
   ]
  },
  {
   "cell_type": "markdown",
   "metadata": {},
   "source": [
    "* Run basic calculations to obtain purchase count, avg. purchase price, avg. purchase total per person etc. by gender\n",
    "\n",
    "\n",
    "\n",
    "\n",
    "* Create a summary data frame to hold the results\n",
    "\n",
    "\n",
    "* Optional: give the displayed data cleaner formatting\n",
    "\n",
    "\n",
    "* Display the summary data frame"
   ]
  },
  {
   "cell_type": "code",
   "execution_count": 5,
   "metadata": {},
   "outputs": [
    {
     "data": {
      "text/html": [
       "<style  type=\"text/css\" >\n",
       "</style><table id=\"T_fcc34540_87aa_11e9_a9d5_181dea712a59\" ><thead>    <tr>        <th class=\"blank level0\" ></th>        <th class=\"col_heading level0 col0\" >Purchase Count</th>        <th class=\"col_heading level0 col1\" >Average Purchase Price</th>        <th class=\"col_heading level0 col2\" >Average Purchase Total</th>    </tr>    <tr>        <th class=\"index_name level0\" >Gender</th>        <th class=\"blank\" ></th>        <th class=\"blank\" ></th>        <th class=\"blank\" ></th>    </tr></thead><tbody>\n",
       "                <tr>\n",
       "                        <th id=\"T_fcc34540_87aa_11e9_a9d5_181dea712a59level0_row0\" class=\"row_heading level0 row0\" >Female</th>\n",
       "                        <td id=\"T_fcc34540_87aa_11e9_a9d5_181dea712a59row0_col0\" class=\"data row0 col0\" >113</td>\n",
       "                        <td id=\"T_fcc34540_87aa_11e9_a9d5_181dea712a59row0_col1\" class=\"data row0 col1\" >$3.20</td>\n",
       "                        <td id=\"T_fcc34540_87aa_11e9_a9d5_181dea712a59row0_col2\" class=\"data row0 col2\" >$361.94</td>\n",
       "            </tr>\n",
       "            <tr>\n",
       "                        <th id=\"T_fcc34540_87aa_11e9_a9d5_181dea712a59level0_row1\" class=\"row_heading level0 row1\" >Male</th>\n",
       "                        <td id=\"T_fcc34540_87aa_11e9_a9d5_181dea712a59row1_col0\" class=\"data row1 col0\" >652</td>\n",
       "                        <td id=\"T_fcc34540_87aa_11e9_a9d5_181dea712a59row1_col1\" class=\"data row1 col1\" >$3.02</td>\n",
       "                        <td id=\"T_fcc34540_87aa_11e9_a9d5_181dea712a59row1_col2\" class=\"data row1 col2\" >$1,967.64</td>\n",
       "            </tr>\n",
       "            <tr>\n",
       "                        <th id=\"T_fcc34540_87aa_11e9_a9d5_181dea712a59level0_row2\" class=\"row_heading level0 row2\" >Other / Non-Disclosed</th>\n",
       "                        <td id=\"T_fcc34540_87aa_11e9_a9d5_181dea712a59row2_col0\" class=\"data row2 col0\" >15</td>\n",
       "                        <td id=\"T_fcc34540_87aa_11e9_a9d5_181dea712a59row2_col1\" class=\"data row2 col1\" >$3.35</td>\n",
       "                        <td id=\"T_fcc34540_87aa_11e9_a9d5_181dea712a59row2_col2\" class=\"data row2 col2\" >$50.19</td>\n",
       "            </tr>\n",
       "    </tbody></table>"
      ],
      "text/plain": [
       "<pandas.io.formats.style.Styler at 0x1cff8dc56a0>"
      ]
     },
     "execution_count": 5,
     "metadata": {},
     "output_type": "execute_result"
    }
   ],
   "source": [
    "# For each gender, arrive at calculations for:\n",
    "# 1-Purchase Count\n",
    "# 2-Average Purchase Price\n",
    "# 3-Average Purchase Total\n",
    "# put it in a table and print with formating\n",
    "\n",
    "# How?\n",
    "# find the total count of purchases made by each gender\n",
    "# then divide the sum of purchases made by each gender by the count of each gender from the above variable \"gender_count\"\n",
    "# to reduce confusion, come up with a variable naming convention by using \n",
    "\n",
    "# 1-get the total purchase count for each gender \n",
    "count_purchase_gender = gender_demo[\"Purchase ID\"].count()\n",
    "\n",
    "# 2-calculate the average purchase prices by gender\n",
    "average_price_gender = gender_demo[\"Price\"].mean()\n",
    "average_price_gender.round(2)\n",
    "\n",
    "# 3-calculate the average purchase total by gender\n",
    "average_purchase_sum = gender_demo[\"Price\"].sum()\n",
    "average_purchase_sum.round(2)\n",
    "\n",
    "# put the variables into a data frame\n",
    "gender_df2 = pd.DataFrame({\"Purchase Count\": count_purchase_gender, \n",
    "                           \"Average Purchase Price\": average_price_gender, \n",
    "                           \"Average Purchase Total\": average_purchase_sum})\n",
    "\n",
    "# format the output variables and print it\n",
    "gender_df2.style.format({\"Average Purchase Price\": \"${:,.2f}\",\n",
    "                         \"Average Purchase Total\": \"${:,.2f}\"})\n"
   ]
  },
  {
   "cell_type": "markdown",
   "metadata": {},
   "source": [
    "## Age Demographics"
   ]
  },
  {
   "cell_type": "markdown",
   "metadata": {},
   "source": [
    "* Establish bins for ages\n",
    "\n",
    "\n",
    "* Categorize the existing players using the age bins. Hint: use pd.cut()\n",
    "\n",
    "\n",
    "* Calculate the numbers and percentages by age group\n",
    "\n",
    "\n",
    "* Create a summary data frame to hold the results\n",
    "\n",
    "\n",
    "* Optional: round the percentage column to two decimal points\n",
    "\n",
    "\n",
    "* Display Age Demographics Table\n"
   ]
  },
  {
   "cell_type": "code",
   "execution_count": 6,
   "metadata": {},
   "outputs": [
    {
     "data": {
      "text/html": [
       "<style  type=\"text/css\" >\n",
       "</style><table id=\"T_fcc5b490_87aa_11e9_a588_181dea712a59\" ><thead>    <tr>        <th class=\"blank level0\" ></th>        <th class=\"col_heading level0 col0\" >Percentage of Players</th>        <th class=\"col_heading level0 col1\" >Total Count</th>    </tr>    <tr>        <th class=\"index_name level0\" >Age Group</th>        <th class=\"blank\" ></th>        <th class=\"blank\" ></th>    </tr></thead><tbody>\n",
       "                <tr>\n",
       "                        <th id=\"T_fcc5b490_87aa_11e9_a588_181dea712a59level0_row0\" class=\"row_heading level0 row0\" >Under 10</th>\n",
       "                        <td id=\"T_fcc5b490_87aa_11e9_a588_181dea712a59row0_col0\" class=\"data row0 col0\" >2.95%</td>\n",
       "                        <td id=\"T_fcc5b490_87aa_11e9_a588_181dea712a59row0_col1\" class=\"data row0 col1\" >17</td>\n",
       "            </tr>\n",
       "            <tr>\n",
       "                        <th id=\"T_fcc5b490_87aa_11e9_a588_181dea712a59level0_row1\" class=\"row_heading level0 row1\" >10-19</th>\n",
       "                        <td id=\"T_fcc5b490_87aa_11e9_a588_181dea712a59row1_col0\" class=\"data row1 col0\" >22.40%</td>\n",
       "                        <td id=\"T_fcc5b490_87aa_11e9_a588_181dea712a59row1_col1\" class=\"data row1 col1\" >129</td>\n",
       "            </tr>\n",
       "            <tr>\n",
       "                        <th id=\"T_fcc5b490_87aa_11e9_a588_181dea712a59level0_row2\" class=\"row_heading level0 row2\" >20-29</th>\n",
       "                        <td id=\"T_fcc5b490_87aa_11e9_a588_181dea712a59row2_col0\" class=\"data row2 col0\" >58.16%</td>\n",
       "                        <td id=\"T_fcc5b490_87aa_11e9_a588_181dea712a59row2_col1\" class=\"data row2 col1\" >335</td>\n",
       "            </tr>\n",
       "            <tr>\n",
       "                        <th id=\"T_fcc5b490_87aa_11e9_a588_181dea712a59level0_row3\" class=\"row_heading level0 row3\" >30-39</th>\n",
       "                        <td id=\"T_fcc5b490_87aa_11e9_a588_181dea712a59row3_col0\" class=\"data row3 col0\" >14.41%</td>\n",
       "                        <td id=\"T_fcc5b490_87aa_11e9_a588_181dea712a59row3_col1\" class=\"data row3 col1\" >83</td>\n",
       "            </tr>\n",
       "            <tr>\n",
       "                        <th id=\"T_fcc5b490_87aa_11e9_a588_181dea712a59level0_row4\" class=\"row_heading level0 row4\" >40 and Over</th>\n",
       "                        <td id=\"T_fcc5b490_87aa_11e9_a588_181dea712a59row4_col0\" class=\"data row4 col0\" >2.08%</td>\n",
       "                        <td id=\"T_fcc5b490_87aa_11e9_a588_181dea712a59row4_col1\" class=\"data row4 col1\" >12</td>\n",
       "            </tr>\n",
       "    </tbody></table>"
      ],
      "text/plain": [
       "<pandas.io.formats.style.Styler at 0x1cff8dd55f8>"
      ]
     },
     "execution_count": 6,
     "metadata": {},
     "output_type": "execute_result"
    }
   ],
   "source": [
    "# For each age group, arrive at calculations for:\n",
    "# 1-Percentage of Players\n",
    "# 2-Total Count\n",
    "# put it in a table and print with formating\n",
    "\n",
    "# How?\n",
    "# break up the age groups, and labvel the age groups\n",
    "# find the total count of players in each age group\n",
    "# then divide the sum of players from each player age group by the \"total_players\" from way early above\n",
    "\n",
    "\n",
    "# make bins by age\n",
    "age_bins = [0, 9.9, 19.9, 29.9, 39.9, 49.9]\n",
    "age_bin_names = [\"Under 10\", \"10-19\", \"20-29\", \"30-39\", \"40 and Over\"]\n",
    "\n",
    "# break up the original purchase_data table into the bins defined above\n",
    "purchase_data[\"Age Group\"] = pd.cut(purchase_data[\"Age\"],age_bins, labels=age_bin_names)\n",
    "purchase_data\n",
    "\n",
    "# make a new data frame, and group it by the new column “Age Group” you added from above\n",
    "age_group_df = purchase_data.groupby(\"Age Group\")\n",
    "\n",
    "# use the .nunique() function to get a count of the total players by age in each category\n",
    "# REMINDER: use the same variable naming convention from above of AAA_BBB_CCC, A=calculation type, B=value, C=group\n",
    "count_players_age = age_group_df[\"SN\"].nunique()\n",
    "\n",
    "# calculate the percent for each age category \n",
    "percent_players_age = (count_players_age/total_players)\n",
    "\n",
    "# put the variables into a data frame\n",
    "age_demographics = pd.DataFrame({\"Percentage of Players\": percent_players_age,\n",
    "                                 \"Total Count\": count_players_age})\n",
    "\n",
    "# format the output variables and print it\n",
    "age_demographics.style.format({\"Percentage of Players\":\"{:,.2%}\"})"
   ]
  },
  {
   "cell_type": "markdown",
   "metadata": {},
   "source": [
    "## Purchasing Analysis (Age)"
   ]
  },
  {
   "cell_type": "markdown",
   "metadata": {},
   "source": [
    "* Bin the purchase_data data frame by age\n",
    "\n",
    "\n",
    "* Run basic calculations to obtain purchase count, avg. purchase price, avg. purchase total per person etc. in the table below\n",
    "\n",
    "\n",
    "* Create a summary data frame to hold the results\n",
    "\n",
    "\n",
    "* Optional: give the displayed data cleaner formatting\n",
    "\n",
    "\n",
    "* Display the summary data frame"
   ]
  },
  {
   "cell_type": "code",
   "execution_count": 7,
   "metadata": {},
   "outputs": [
    {
     "data": {
      "text/html": [
       "<style  type=\"text/css\" >\n",
       "</style><table id=\"T_fcc7881c_87aa_11e9_a086_181dea712a59\" ><thead>    <tr>        <th class=\"blank level0\" ></th>        <th class=\"col_heading level0 col0\" >Purchase Count</th>        <th class=\"col_heading level0 col1\" >Average Purchase Price</th>        <th class=\"col_heading level0 col2\" >Total Purchase Value</th>        <th class=\"col_heading level0 col3\" >Average Purchase Total per Person</th>    </tr>    <tr>        <th class=\"index_name level0\" >Age Group</th>        <th class=\"blank\" ></th>        <th class=\"blank\" ></th>        <th class=\"blank\" ></th>        <th class=\"blank\" ></th>    </tr></thead><tbody>\n",
       "                <tr>\n",
       "                        <th id=\"T_fcc7881c_87aa_11e9_a086_181dea712a59level0_row0\" class=\"row_heading level0 row0\" >Under 10</th>\n",
       "                        <td id=\"T_fcc7881c_87aa_11e9_a086_181dea712a59row0_col0\" class=\"data row0 col0\" >23</td>\n",
       "                        <td id=\"T_fcc7881c_87aa_11e9_a086_181dea712a59row0_col1\" class=\"data row0 col1\" >$3.35</td>\n",
       "                        <td id=\"T_fcc7881c_87aa_11e9_a086_181dea712a59row0_col2\" class=\"data row0 col2\" >$77.13</td>\n",
       "                        <td id=\"T_fcc7881c_87aa_11e9_a086_181dea712a59row0_col3\" class=\"data row0 col3\" >$4.54</td>\n",
       "            </tr>\n",
       "            <tr>\n",
       "                        <th id=\"T_fcc7881c_87aa_11e9_a086_181dea712a59level0_row1\" class=\"row_heading level0 row1\" >10-19</th>\n",
       "                        <td id=\"T_fcc7881c_87aa_11e9_a086_181dea712a59row1_col0\" class=\"data row1 col0\" >164</td>\n",
       "                        <td id=\"T_fcc7881c_87aa_11e9_a086_181dea712a59row1_col1\" class=\"data row1 col1\" >$3.02</td>\n",
       "                        <td id=\"T_fcc7881c_87aa_11e9_a086_181dea712a59row1_col2\" class=\"data row1 col2\" >$495.67</td>\n",
       "                        <td id=\"T_fcc7881c_87aa_11e9_a086_181dea712a59row1_col3\" class=\"data row1 col3\" >$3.84</td>\n",
       "            </tr>\n",
       "            <tr>\n",
       "                        <th id=\"T_fcc7881c_87aa_11e9_a086_181dea712a59level0_row2\" class=\"row_heading level0 row2\" >20-29</th>\n",
       "                        <td id=\"T_fcc7881c_87aa_11e9_a086_181dea712a59row2_col0\" class=\"data row2 col0\" >466</td>\n",
       "                        <td id=\"T_fcc7881c_87aa_11e9_a086_181dea712a59row2_col1\" class=\"data row2 col1\" >$3.02</td>\n",
       "                        <td id=\"T_fcc7881c_87aa_11e9_a086_181dea712a59row2_col2\" class=\"data row2 col2\" >$1,407.06</td>\n",
       "                        <td id=\"T_fcc7881c_87aa_11e9_a086_181dea712a59row2_col3\" class=\"data row2 col3\" >$4.20</td>\n",
       "            </tr>\n",
       "            <tr>\n",
       "                        <th id=\"T_fcc7881c_87aa_11e9_a086_181dea712a59level0_row3\" class=\"row_heading level0 row3\" >30-39</th>\n",
       "                        <td id=\"T_fcc7881c_87aa_11e9_a086_181dea712a59row3_col0\" class=\"data row3 col0\" >114</td>\n",
       "                        <td id=\"T_fcc7881c_87aa_11e9_a086_181dea712a59row3_col1\" class=\"data row3 col1\" >$3.17</td>\n",
       "                        <td id=\"T_fcc7881c_87aa_11e9_a086_181dea712a59row3_col2\" class=\"data row3 col2\" >$361.67</td>\n",
       "                        <td id=\"T_fcc7881c_87aa_11e9_a086_181dea712a59row3_col3\" class=\"data row3 col3\" >$4.36</td>\n",
       "            </tr>\n",
       "            <tr>\n",
       "                        <th id=\"T_fcc7881c_87aa_11e9_a086_181dea712a59level0_row4\" class=\"row_heading level0 row4\" >40 and Over</th>\n",
       "                        <td id=\"T_fcc7881c_87aa_11e9_a086_181dea712a59row4_col0\" class=\"data row4 col0\" >13</td>\n",
       "                        <td id=\"T_fcc7881c_87aa_11e9_a086_181dea712a59row4_col1\" class=\"data row4 col1\" >$2.94</td>\n",
       "                        <td id=\"T_fcc7881c_87aa_11e9_a086_181dea712a59row4_col2\" class=\"data row4 col2\" >$38.24</td>\n",
       "                        <td id=\"T_fcc7881c_87aa_11e9_a086_181dea712a59row4_col3\" class=\"data row4 col3\" >$3.19</td>\n",
       "            </tr>\n",
       "    </tbody></table>"
      ],
      "text/plain": [
       "<pandas.io.formats.style.Styler at 0x1cff8dd58d0>"
      ]
     },
     "execution_count": 7,
     "metadata": {},
     "output_type": "execute_result"
    }
   ],
   "source": [
    "# use the .count() to get the total count of purchases made for each age group\n",
    "count_purchase_age = age_group_df[\"Purchase ID\"].count()\n",
    "\n",
    "# calculate the average purchase price for each age group\n",
    "average_price_age = age_group_df[\"Price\"].mean()\n",
    "\n",
    "# Calculate total purchase value by age group \n",
    "total_purchase_value = age_group_df[\"Price\"].sum()\n",
    "\n",
    "# Calculate the average purchase per person in the age group \n",
    "avg_purchase_per_person_age = total_purchase_value/count_players_age\n",
    "\n",
    "# put the variables into a data frame\n",
    "age_demographics = pd.DataFrame({\"Purchase Count\": count_purchase_age,\n",
    "                                 \"Average Purchase Price\": average_price_age,\n",
    "                                 \"Total Purchase Value\":total_purchase_value,\n",
    "                                 \"Average Purchase Total per Person\": avg_purchase_per_person_age})\n",
    "\n",
    "# format the output variables and print it\n",
    "age_demographics.style.format({\"Average Purchase Price\":\"${:,.2f}\",\n",
    "                               \"Total Purchase Value\":\"${:,.2f}\",\n",
    "                               \"Average Purchase Total per Person\":\"${:,.2f}\"})\n"
   ]
  },
  {
   "cell_type": "markdown",
   "metadata": {},
   "source": [
    "## Top Spenders"
   ]
  },
  {
   "cell_type": "markdown",
   "metadata": {},
   "source": [
    "* Run basic calculations to obtain the results in the table below\n",
    "\n",
    "\n",
    "* Create a summary data frame to hold the results\n",
    "\n",
    "\n",
    "* Sort the total purchase value column in descending order\n",
    "\n",
    "\n",
    "* Optional: give the displayed data cleaner formatting\n",
    "\n",
    "\n",
    "* Display a preview of the summary data frame\n",
    "\n"
   ]
  },
  {
   "cell_type": "code",
   "execution_count": 8,
   "metadata": {},
   "outputs": [
    {
     "data": {
      "text/html": [
       "<style  type=\"text/css\" >\n",
       "</style><table id=\"T_fcc9d07e_87aa_11e9_8a8f_181dea712a59\" ><thead>    <tr>        <th class=\"blank level0\" ></th>        <th class=\"col_heading level0 col0\" >Purchase Count</th>        <th class=\"col_heading level0 col1\" >Average Purchase Price</th>        <th class=\"col_heading level0 col2\" >Total Purchase Value</th>    </tr>    <tr>        <th class=\"index_name level0\" >SN</th>        <th class=\"blank\" ></th>        <th class=\"blank\" ></th>        <th class=\"blank\" ></th>    </tr></thead><tbody>\n",
       "                <tr>\n",
       "                        <th id=\"T_fcc9d07e_87aa_11e9_8a8f_181dea712a59level0_row0\" class=\"row_heading level0 row0\" >Lisosia93</th>\n",
       "                        <td id=\"T_fcc9d07e_87aa_11e9_8a8f_181dea712a59row0_col0\" class=\"data row0 col0\" >5</td>\n",
       "                        <td id=\"T_fcc9d07e_87aa_11e9_8a8f_181dea712a59row0_col1\" class=\"data row0 col1\" >$3.79</td>\n",
       "                        <td id=\"T_fcc9d07e_87aa_11e9_8a8f_181dea712a59row0_col2\" class=\"data row0 col2\" >$18.96</td>\n",
       "            </tr>\n",
       "            <tr>\n",
       "                        <th id=\"T_fcc9d07e_87aa_11e9_8a8f_181dea712a59level0_row1\" class=\"row_heading level0 row1\" >Idastidru52</th>\n",
       "                        <td id=\"T_fcc9d07e_87aa_11e9_8a8f_181dea712a59row1_col0\" class=\"data row1 col0\" >4</td>\n",
       "                        <td id=\"T_fcc9d07e_87aa_11e9_8a8f_181dea712a59row1_col1\" class=\"data row1 col1\" >$3.86</td>\n",
       "                        <td id=\"T_fcc9d07e_87aa_11e9_8a8f_181dea712a59row1_col2\" class=\"data row1 col2\" >$15.45</td>\n",
       "            </tr>\n",
       "            <tr>\n",
       "                        <th id=\"T_fcc9d07e_87aa_11e9_8a8f_181dea712a59level0_row2\" class=\"row_heading level0 row2\" >Chamjask73</th>\n",
       "                        <td id=\"T_fcc9d07e_87aa_11e9_8a8f_181dea712a59row2_col0\" class=\"data row2 col0\" >3</td>\n",
       "                        <td id=\"T_fcc9d07e_87aa_11e9_8a8f_181dea712a59row2_col1\" class=\"data row2 col1\" >$4.61</td>\n",
       "                        <td id=\"T_fcc9d07e_87aa_11e9_8a8f_181dea712a59row2_col2\" class=\"data row2 col2\" >$13.83</td>\n",
       "            </tr>\n",
       "    </tbody></table>"
      ],
      "text/plain": [
       "<pandas.io.formats.style.Styler at 0x1cff8dd5860>"
      ]
     },
     "execution_count": 8,
     "metadata": {},
     "output_type": "execute_result"
    }
   ],
   "source": [
    "# take the source purchase_data table and group by SN\n",
    "spender_data = purchase_data.groupby(\"SN\")\n",
    "\n",
    "# use .count() to get a total count of purchases by each SN\n",
    "count_purchase_spender = spender_data[\"Purchase ID\"].count()\n",
    "\n",
    "# use .mean() calculate the average purchase by SN from the grouped table \n",
    "avg_purchase_price_spender = spender_data[\"Price\"].mean()\n",
    "\n",
    "# use .sum() to calculate total purchase value\n",
    "sum_purchase_spender = spender_data[\"Price\"].sum()\n",
    "\n",
    "# put the variables into a data frame\n",
    "big_spenders_df = pd.DataFrame({\"Purchase Count\": count_purchase_spender,\n",
    "                             \"Average Purchase Price\": avg_purchase_price_spender,\n",
    "                             \"Total Purchase Value\":sum_purchase_spender})\n",
    "\n",
    "# Sort the latest DF in descending order and use .head(3) to cut off the list\n",
    "sorted_big_spenders = big_spenders_df.sort_values([\"Total Purchase Value\"], ascending=False).head(3)\n",
    "\n",
    "# format the output variables and print it\n",
    "sorted_big_spenders.style.format({\"Average Purchase Total\":\"${:,.2f}\",\n",
    "                                 \"Average Purchase Price\":\"${:,.2f}\", \n",
    "                                 \"Total Purchase Value\":\"${:,.2f}\"})"
   ]
  },
  {
   "cell_type": "markdown",
   "metadata": {},
   "source": [
    "## Most Popular Items"
   ]
  },
  {
   "cell_type": "markdown",
   "metadata": {},
   "source": [
    "* Retrieve the Item ID, Item Name, and Item Price columns\n",
    "\n",
    "\n",
    "* Group by Item ID and Item Name. Perform calculations to obtain purchase count, item price, and total purchase value\n",
    "\n",
    "\n",
    "* Create a summary data frame to hold the results\n",
    "\n",
    "\n",
    "* Sort the purchase count column in descending order\n",
    "\n",
    "\n",
    "* Optional: give the displayed data cleaner formatting\n",
    "\n",
    "\n",
    "* Display a preview of the summary data frame\n",
    "\n"
   ]
  },
  {
   "cell_type": "code",
   "execution_count": 9,
   "metadata": {},
   "outputs": [
    {
     "data": {
      "text/html": [
       "<style  type=\"text/css\" >\n",
       "</style><table id=\"T_fccc18d4_87aa_11e9_884a_181dea712a59\" ><thead>    <tr>        <th class=\"blank\" ></th>        <th class=\"blank level0\" ></th>        <th class=\"col_heading level0 col0\" >Purchase Count</th>        <th class=\"col_heading level0 col1\" >Item Price</th>        <th class=\"col_heading level0 col2\" >Total Purchase Value</th>    </tr>    <tr>        <th class=\"index_name level0\" >Item ID</th>        <th class=\"index_name level1\" >Item Name</th>        <th class=\"blank\" ></th>        <th class=\"blank\" ></th>        <th class=\"blank\" ></th>    </tr></thead><tbody>\n",
       "                <tr>\n",
       "                        <th id=\"T_fccc18d4_87aa_11e9_884a_181dea712a59level0_row0\" class=\"row_heading level0 row0\" >178</th>\n",
       "                        <th id=\"T_fccc18d4_87aa_11e9_884a_181dea712a59level1_row0\" class=\"row_heading level1 row0\" >Oathbreaker, Last Hope of the Breaking Storm</th>\n",
       "                        <td id=\"T_fccc18d4_87aa_11e9_884a_181dea712a59row0_col0\" class=\"data row0 col0\" >12</td>\n",
       "                        <td id=\"T_fccc18d4_87aa_11e9_884a_181dea712a59row0_col1\" class=\"data row0 col1\" >$4.23</td>\n",
       "                        <td id=\"T_fccc18d4_87aa_11e9_884a_181dea712a59row0_col2\" class=\"data row0 col2\" >$50.76</td>\n",
       "            </tr>\n",
       "            <tr>\n",
       "                        <th id=\"T_fccc18d4_87aa_11e9_884a_181dea712a59level0_row1\" class=\"row_heading level0 row1\" >145</th>\n",
       "                        <th id=\"T_fccc18d4_87aa_11e9_884a_181dea712a59level1_row1\" class=\"row_heading level1 row1\" >Fiery Glass Crusader</th>\n",
       "                        <td id=\"T_fccc18d4_87aa_11e9_884a_181dea712a59row1_col0\" class=\"data row1 col0\" >9</td>\n",
       "                        <td id=\"T_fccc18d4_87aa_11e9_884a_181dea712a59row1_col1\" class=\"data row1 col1\" >$4.58</td>\n",
       "                        <td id=\"T_fccc18d4_87aa_11e9_884a_181dea712a59row1_col2\" class=\"data row1 col2\" >$41.22</td>\n",
       "            </tr>\n",
       "            <tr>\n",
       "                        <th id=\"T_fccc18d4_87aa_11e9_884a_181dea712a59level0_row2\" class=\"row_heading level0 row2\" >108</th>\n",
       "                        <th id=\"T_fccc18d4_87aa_11e9_884a_181dea712a59level1_row2\" class=\"row_heading level1 row2\" >Extraction, Quickblade Of Trembling Hands</th>\n",
       "                        <td id=\"T_fccc18d4_87aa_11e9_884a_181dea712a59row2_col0\" class=\"data row2 col0\" >9</td>\n",
       "                        <td id=\"T_fccc18d4_87aa_11e9_884a_181dea712a59row2_col1\" class=\"data row2 col1\" >$3.53</td>\n",
       "                        <td id=\"T_fccc18d4_87aa_11e9_884a_181dea712a59row2_col2\" class=\"data row2 col2\" >$31.77</td>\n",
       "            </tr>\n",
       "    </tbody></table>"
      ],
      "text/plain": [
       "<pandas.io.formats.style.Styler at 0x1cff8de7a90>"
      ]
     },
     "execution_count": 9,
     "metadata": {},
     "output_type": "execute_result"
    }
   ],
   "source": [
    "# make a new data frame with just the relevant Item ID, Item Name, and Item Price columns\n",
    "purchased_items_df = purchase_data[[\"Item ID\", \"Item Name\", \"Price\"]]\n",
    "\n",
    "# make another data frame, this time grouped by Item ID and Item Name\n",
    "item_group_df = purchased_items_df.groupby([\"Item ID\",\"Item Name\"])\n",
    "\n",
    "# use .count() to count the frequency an item was purchased\n",
    "count_purchase_item = item_group_df[\"Price\"].count()\n",
    "\n",
    "# use .sum() to calculate the individual value of an item purchased\n",
    "sum_purchase_item = (item_group_df[\"Price\"].sum()) \n",
    "\n",
    "# calculate the price of an item by dividing the total spent on an item by the number of items purchased\n",
    "item_price = sum_purchase_item/count_purchase_item\n",
    "\n",
    "# put the calculated variables into a data frame\n",
    "most_popular_items = pd.DataFrame({\"Purchase Count\": count_purchase_item, \n",
    "                                   \"Item Price\": item_price,\n",
    "                                   \"Total Purchase Value\":sum_purchase_item})\n",
    "\n",
    "# arrange from largest to smallest \"Purchase Count\" and show the top 3 using .head(3)\n",
    "most_popular_formatted = most_popular_items.sort_values([\"Purchase Count\"], ascending=False).head(3)\n",
    "\n",
    "# format the output variables and print it\n",
    "most_popular_formatted.style.format({\"Item Price\":\"${:,.2f}\",\n",
    "                                \"Total Purchase Value\":\"${:,.2f}\"})"
   ]
  },
  {
   "cell_type": "markdown",
   "metadata": {},
   "source": [
    "## Most Profitable Items"
   ]
  },
  {
   "cell_type": "markdown",
   "metadata": {},
   "source": [
    "* Sort the above table by total purchase value in descending order\n",
    "\n",
    "\n",
    "* Optional: give the displayed data cleaner formatting\n",
    "\n",
    "\n",
    "* Display a preview of the data frame\n",
    "\n"
   ]
  },
  {
   "cell_type": "code",
   "execution_count": 10,
   "metadata": {
    "scrolled": true
   },
   "outputs": [
    {
     "data": {
      "text/html": [
       "<style  type=\"text/css\" >\n",
       "</style><table id=\"T_fccdc566_87aa_11e9_b532_181dea712a59\" ><thead>    <tr>        <th class=\"blank\" ></th>        <th class=\"blank level0\" ></th>        <th class=\"col_heading level0 col0\" >Purchase Count</th>        <th class=\"col_heading level0 col1\" >Item Price</th>        <th class=\"col_heading level0 col2\" >Total Purchase Value</th>    </tr>    <tr>        <th class=\"index_name level0\" >Item ID</th>        <th class=\"index_name level1\" >Item Name</th>        <th class=\"blank\" ></th>        <th class=\"blank\" ></th>        <th class=\"blank\" ></th>    </tr></thead><tbody>\n",
       "                <tr>\n",
       "                        <th id=\"T_fccdc566_87aa_11e9_b532_181dea712a59level0_row0\" class=\"row_heading level0 row0\" >178</th>\n",
       "                        <th id=\"T_fccdc566_87aa_11e9_b532_181dea712a59level1_row0\" class=\"row_heading level1 row0\" >Oathbreaker, Last Hope of the Breaking Storm</th>\n",
       "                        <td id=\"T_fccdc566_87aa_11e9_b532_181dea712a59row0_col0\" class=\"data row0 col0\" >12</td>\n",
       "                        <td id=\"T_fccdc566_87aa_11e9_b532_181dea712a59row0_col1\" class=\"data row0 col1\" >$4.23</td>\n",
       "                        <td id=\"T_fccdc566_87aa_11e9_b532_181dea712a59row0_col2\" class=\"data row0 col2\" >$50.76</td>\n",
       "            </tr>\n",
       "            <tr>\n",
       "                        <th id=\"T_fccdc566_87aa_11e9_b532_181dea712a59level0_row1\" class=\"row_heading level0 row1\" >82</th>\n",
       "                        <th id=\"T_fccdc566_87aa_11e9_b532_181dea712a59level1_row1\" class=\"row_heading level1 row1\" >Nirvana</th>\n",
       "                        <td id=\"T_fccdc566_87aa_11e9_b532_181dea712a59row1_col0\" class=\"data row1 col0\" >9</td>\n",
       "                        <td id=\"T_fccdc566_87aa_11e9_b532_181dea712a59row1_col1\" class=\"data row1 col1\" >$4.90</td>\n",
       "                        <td id=\"T_fccdc566_87aa_11e9_b532_181dea712a59row1_col2\" class=\"data row1 col2\" >$44.10</td>\n",
       "            </tr>\n",
       "            <tr>\n",
       "                        <th id=\"T_fccdc566_87aa_11e9_b532_181dea712a59level0_row2\" class=\"row_heading level0 row2\" >145</th>\n",
       "                        <th id=\"T_fccdc566_87aa_11e9_b532_181dea712a59level1_row2\" class=\"row_heading level1 row2\" >Fiery Glass Crusader</th>\n",
       "                        <td id=\"T_fccdc566_87aa_11e9_b532_181dea712a59row2_col0\" class=\"data row2 col0\" >9</td>\n",
       "                        <td id=\"T_fccdc566_87aa_11e9_b532_181dea712a59row2_col1\" class=\"data row2 col1\" >$4.58</td>\n",
       "                        <td id=\"T_fccdc566_87aa_11e9_b532_181dea712a59row2_col2\" class=\"data row2 col2\" >$41.22</td>\n",
       "            </tr>\n",
       "    </tbody></table>"
      ],
      "text/plain": [
       "<pandas.io.formats.style.Styler at 0x1cff8045a20>"
      ]
     },
     "execution_count": 10,
     "metadata": {},
     "output_type": "execute_result"
    }
   ],
   "source": [
    "# arrange from largest to smallest \"Total Purchase Value\" and show the top 3 using .head(3)\n",
    "most_popular_formatted = most_popular_items.sort_values([\"Total Purchase Value\"], ascending=False).head(3)\n",
    "\n",
    "# format the output variables and print it\n",
    "most_popular_formatted.style.format({\"Item Price\":\"${:,.2f}\",\n",
    "                                \"Total Purchase Value\":\"${:,.2f}\"})"
   ]
  },
  {
   "cell_type": "code",
   "execution_count": null,
   "metadata": {},
   "outputs": [],
   "source": []
  }
 ],
 "metadata": {
  "anaconda-cloud": {},
  "kernel_info": {
   "name": "python3"
  },
  "kernelspec": {
   "display_name": "Python 3",
   "language": "python",
   "name": "python3"
  },
  "language_info": {
   "codemirror_mode": {
    "name": "ipython",
    "version": 3
   },
   "file_extension": ".py",
   "mimetype": "text/x-python",
   "name": "python",
   "nbconvert_exporter": "python",
   "pygments_lexer": "ipython3",
   "version": "3.7.3"
  },
  "nteract": {
   "version": "0.2.0"
  }
 },
 "nbformat": 4,
 "nbformat_minor": 2
}
